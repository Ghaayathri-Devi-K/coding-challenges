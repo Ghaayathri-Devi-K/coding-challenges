{
 "cells": [
  {
   "cell_type": "markdown",
   "metadata": {},
   "source": [
    "### QUESTION 1"
   ]
  },
  {
   "cell_type": "raw",
   "metadata": {},
   "source": [
    "You already know how split() works. Now we want you to prove it. Your task is to write your own function, which behaves almost exactly like the original split() method, i.e.:\n",
    "\n",
    "~ it should accept exactly one argument - a string;\n",
    "~ it should return a list of words created from the string, divided in the places where the string contains whitespaces;\n",
    "~ if the string is empty, the function should return an empty list;\n",
    "~ its name should be mysplit()\n",
    "\n",
    "Expected output\n",
    "['To', 'be', 'or', 'not', 'to', 'be,', 'that', 'is', 'the', 'question']\n",
    "['To', 'be', 'or', 'not', 'to', 'be,that', 'is', 'the', 'question']\n",
    "[]\n",
    "['abc']\n",
    "[]"
   ]
  },
  {
   "cell_type": "code",
   "execution_count": 1,
   "metadata": {},
   "outputs": [],
   "source": [
    "def my_split(string,sep):\n",
    "    s = string\n",
    "    l = []\n",
    "    split_idx = 0\n",
    "    for i in range(len(s)):\n",
    "        split_idx_curr = split_idx\n",
    "        if s[i] == sep:\n",
    "            split_idx = i+1   \n",
    "            l.append(s[split_idx_curr:split_idx-1])\n",
    "    return l"
   ]
  },
  {
   "cell_type": "code",
   "execution_count": 2,
   "metadata": {},
   "outputs": [
    {
     "data": {
      "text/plain": [
       "['hey', 'how', 'are', 'you']"
      ]
     },
     "execution_count": 2,
     "metadata": {},
     "output_type": "execute_result"
    }
   ],
   "source": [
    "string = 'hey how are you ?'\n",
    "sep = ' '\n",
    "my_split(string,sep)"
   ]
  },
  {
   "cell_type": "code",
   "execution_count": 3,
   "metadata": {},
   "outputs": [
    {
     "data": {
      "text/plain": [
       "['hey', 'how', 'are', 'you']"
      ]
     },
     "execution_count": 3,
     "metadata": {},
     "output_type": "execute_result"
    }
   ],
   "source": [
    "string = 'hey#how#are#you#?'\n",
    "sep = '#'\n",
    "my_split(string,sep)"
   ]
  },
  {
   "cell_type": "code",
   "execution_count": 5,
   "metadata": {},
   "outputs": [
    {
     "data": {
      "text/plain": [
       "[]"
      ]
     },
     "execution_count": 5,
     "metadata": {},
     "output_type": "execute_result"
    }
   ],
   "source": [
    "string = ''\n",
    "sep = ' '\n",
    "my_split(string,sep)"
   ]
  },
  {
   "cell_type": "markdown",
   "metadata": {},
   "source": [
    "### QUESTION 2"
   ]
  },
  {
   "cell_type": "raw",
   "metadata": {},
   "source": [
    "Your task is to write a program which is able to simulate the work of a seven-display device, although you're going to use single LEDs instead of segments.\n",
    "\n",
    "Each digit is constructed from 13 LEDs (some lit, some dark, of course) - that's how we imagine it:\n",
    "\n",
    "# ### ### # # ### ### ### ### ### ### \n",
    "#   #   # # # #   #     # # # # # # # \n",
    "# ### ### ### ### ###   # ### ### # # \n",
    "# #     #   #   # # #   # # #   # # # \n",
    "# ### ###   # ### ###   # ### ### ###\n",
    "\n",
    "Note: the number 8 shows all the LED lights on.\n",
    "\n",
    "Your code has to display any non-negative integer number entered by the user."
   ]
  },
  {
   "cell_type": "code",
   "execution_count": 2,
   "metadata": {},
   "outputs": [],
   "source": [
    "def one():\n",
    "    for i in range(5):\n",
    "        print('#')\n",
    "    print()\n",
    "\n",
    "def two():\n",
    "    for i in range(5):\n",
    "        if i % 2 == 0:\n",
    "            print('#'*3)\n",
    "        elif i == 1:\n",
    "            print('  #')\n",
    "        else:\n",
    "            print('#')\n",
    "    print()\n",
    "\n",
    "def three():\n",
    "    for i in range(5):\n",
    "        if i % 2 == 0:\n",
    "            print('#'*3)\n",
    "        else:\n",
    "            print('  #')\n",
    "    print()\n",
    "    \n",
    "def four():\n",
    "    for i in range(5):\n",
    "        if i in range(2):\n",
    "            print('# #')\n",
    "        elif i in range(3,5):\n",
    "            print('  #')\n",
    "        else:\n",
    "            print('#'*3)\n",
    "    print()\n",
    "\n",
    "def five():\n",
    "    for i in range(5):\n",
    "        if i % 2 == 0:\n",
    "            print('#'*3)\n",
    "        elif i == 1:\n",
    "            print('#')\n",
    "        else:\n",
    "            print('  #')\n",
    "    print()\n",
    "    \n",
    "def six():\n",
    "    for i in range(5):\n",
    "        if i == 1:\n",
    "            print('#')\n",
    "        elif i % 2== 0:\n",
    "            print('#'*3)\n",
    "        else:\n",
    "            print('# #')\n",
    "    print()\n",
    "    \n",
    "def seven():    \n",
    "    for i in range(5):\n",
    "        if i == 0:\n",
    "            print('#'*3)\n",
    "        else:\n",
    "            print('  #')\n",
    "    print()\n",
    "    \n",
    "def eight():\n",
    "    for i in range(5):\n",
    "        if i % 2 == 0:\n",
    "            print('#'*3)\n",
    "        else:\n",
    "            print('# #')\n",
    "    print()\n",
    "    \n",
    "def nine():\n",
    "    for i in range(5):\n",
    "        if i % 2 == 0:\n",
    "            print('#'*3)\n",
    "        elif i == 1:\n",
    "            print('# #')\n",
    "        else:\n",
    "            print('  #')\n",
    "    print()\n",
    "    \n",
    "def zero():\n",
    "    for i in range(5):\n",
    "        if i == 0 or i == 4:\n",
    "            print('#'*3)\n",
    "        else:\n",
    "            print('# #')\n",
    "    print()\n",
    "    \n",
    "def seven_segment_display(inp):\n",
    "    for i in inp:\n",
    "        if i == '1': one()\n",
    "        elif i == '2': two()\n",
    "        elif i == '3': three()\n",
    "        elif i == '4': four()\n",
    "        elif i == '5': five()\n",
    "        elif i == '6': six()\n",
    "        elif i == '7': seven()\n",
    "        elif i == '8': eight()\n",
    "        elif i == '9': nine()\n",
    "        elif i == '0': zero()"
   ]
  },
  {
   "cell_type": "code",
   "execution_count": 3,
   "metadata": {},
   "outputs": [
    {
     "name": "stdout",
     "output_type": "stream",
     "text": [
      "#\n",
      "#\n",
      "#\n",
      "#\n",
      "#\n",
      "\n",
      "###\n",
      "  #\n",
      "###\n",
      "#\n",
      "###\n",
      "\n",
      "###\n",
      "  #\n",
      "###\n",
      "  #\n",
      "###\n",
      "\n"
     ]
    }
   ],
   "source": [
    "inp = '123'\n",
    "seven_segment_display(inp)"
   ]
  },
  {
   "cell_type": "markdown",
   "metadata": {},
   "source": [
    "### QUESTION 3"
   ]
  },
  {
   "cell_type": "raw",
   "metadata": {},
   "source": [
    "-----------------------------  The Ceasar Cipher: Encrypting a message --------------------------------\n",
    "\n",
    "The cipher was (probably) invented and used by Gaius Julius Caesar and his troops during the Gallic Wars. The idea is rather simple - every letter of the message is replaced by its nearest consequent (A becomes B, B becomes C, and so on). The only exception is Z, which becomes A.\n",
    "\n",
    "Write a code with the following assumptions:\n",
    "\n",
    "~ it accepts Latin letters only (note: the Romans used neither whitespaces nor digits)\n",
    "~ all letters of the message are in upper case (note: the Romans knew only capitals)"
   ]
  },
  {
   "cell_type": "code",
   "execution_count": 8,
   "metadata": {},
   "outputs": [],
   "source": [
    "def caesar_cipher_encrypt(string):\n",
    "    cipher = ''\n",
    "    for i in string:\n",
    "\n",
    "        if i == 'Z':\n",
    "            code_point = ord('A') - 1\n",
    "        elif not i.isalpha():\n",
    "            continue\n",
    "        else:\n",
    "            code_point = ord(i)\n",
    "\n",
    "        new_code = code_point + 1\n",
    "        cipher = cipher + chr(new_code)\n",
    "        \n",
    "    return cipher"
   ]
  },
  {
   "cell_type": "code",
   "execution_count": 9,
   "metadata": {},
   "outputs": [
    {
     "name": "stdout",
     "output_type": "stream",
     "text": [
      "BCDEA\n"
     ]
    }
   ],
   "source": [
    "print(caesar_cipher_encrypt('ABC@DZ'))"
   ]
  },
  {
   "cell_type": "markdown",
   "metadata": {},
   "source": [
    "### QUESTION 4"
   ]
  },
  {
   "cell_type": "raw",
   "metadata": {},
   "source": [
    "----------------------------- The Caesar Cipher: decrypting a message -----------------------------\n",
    "\n",
    "Implement the reverse transformation of the encryption problem."
   ]
  },
  {
   "cell_type": "code",
   "execution_count": 15,
   "metadata": {},
   "outputs": [],
   "source": [
    "def caesar_cipher_decrypt(cipher):\n",
    "    orig_text = ''\n",
    "    for i in cipher:\n",
    "        if i == 'A':\n",
    "            code_point = ord('Z') + 1\n",
    "        else:\n",
    "            code_point = ord(i) \n",
    "        new_code = code_point - 1\n",
    "        orig_text = orig_text + chr(new_code)\n",
    "    return orig_text"
   ]
  },
  {
   "cell_type": "code",
   "execution_count": 14,
   "metadata": {},
   "outputs": [
    {
     "data": {
      "text/plain": [
       "'ABCDZ'"
      ]
     },
     "execution_count": 14,
     "metadata": {},
     "output_type": "execute_result"
    }
   ],
   "source": [
    "cipher = 'BCDEA'\n",
    "caesar_cipher_decrypt(cipher)"
   ]
  },
  {
   "cell_type": "code",
   "execution_count": 21,
   "metadata": {},
   "outputs": [
    {
     "name": "stdout",
     "output_type": "stream",
     "text": [
      "Original text: ABCDEFGHIJKLMNOPQRSTUVWXYZ\n",
      "Encrypted text: BCDEFGHIJKLMNOPQRSTUVWXYZA\n",
      "Decrypted text: ABCDEFGHIJKLMNOPQRSTUVWXYZ\n"
     ]
    }
   ],
   "source": [
    "ori_txt = 'ABCDEFGHIJKLMNOPQRSTUVWXYZ'\n",
    "print('Original text:',ori_txt)\n",
    "cipher = caesar_cipher_encrypt(ori_txt)\n",
    "print('Encrypted text:',cipher)\n",
    "txt = caesar_cipher_decrypt(cipher)\n",
    "print('Decrypted text:',txt)"
   ]
  },
  {
   "cell_type": "markdown",
   "metadata": {},
   "source": [
    "### QUESTION 5"
   ]
  },
  {
   "cell_type": "raw",
   "metadata": {},
   "source": [
    "You are already familiar with the Caesar cipher, and this is why we want you to improve the code we showed you recently.\n",
    "\n",
    "The original Caesar cipher shifts each character by one: a becomes b, z becomes a, and so on. Let's make it a bit harder, and allow the shifted value to come from the range 1..25 inclusive.\n",
    "\n",
    "Moreover, let the code preserve the letters' case (lower-case letters will remain lower-case) and all non-alphabetical characters should remain untouched.\n",
    "\n",
    "Your task is to write a program which:\n",
    "\n",
    "~ asks the user for one line of text to encrypt;\n",
    "~ asks the user for a shift value (an integer number from the range 1..25 - note: you should force the user to enter a valid shift value (don't give up and don't let bad data fool you!)\n",
    "~ prints out the encoded text.\n",
    "\n",
    "Test your code using the data we've provided.\n",
    "\n",
    "------ Test data 1 -------\n",
    "Sample input:\n",
    "abcxyzABCxyz 123\n",
    "2\n",
    "\n",
    "Sample output:\n",
    "cdezabCDEzab \n",
    "\n",
    "------ Test data 2 -------\n",
    "Sample input:\n",
    "The die is cast\n",
    "25\n",
    "\n",
    "Sample output:\n",
    "Sgd chd hr bzrs"
   ]
  },
  {
   "cell_type": "code",
   "execution_count": 27,
   "metadata": {},
   "outputs": [],
   "source": [
    "def caesar_cipher_encrypt_mod(string, shift):\n",
    "    if shift in range(1,26):\n",
    "        cipher = ''\n",
    "        for i in string:\n",
    "            if not i.isalpha():\n",
    "                continue\n",
    "            else:\n",
    "                code_point = ord(i)\n",
    "                if code_point in range(ord('a'),ord('z')+1):\n",
    "                    new_code = code_point + shift\n",
    "                    if new_code > ord('z'):\n",
    "                        new_code = new_code - 26\n",
    "                elif code_point in range(ord('A'),ord('Z')+1):\n",
    "                    new_code = code_point + shift\n",
    "                    if new_code > ord('Z'):\n",
    "                        new_code = new_code - 26\n",
    "            cipher = cipher + chr(new_code)        \n",
    "        return cipher\n",
    "\n",
    "    else:\n",
    "        print('''Oops! The text cannot be encrypted...\n",
    "            Your shift should be between 1 and 25...''')"
   ]
  },
  {
   "cell_type": "code",
   "execution_count": 28,
   "metadata": {},
   "outputs": [
    {
     "data": {
      "text/plain": [
       "'cdezabCDEzab'"
      ]
     },
     "execution_count": 28,
     "metadata": {},
     "output_type": "execute_result"
    }
   ],
   "source": [
    "string = 'abcxyzABCxyz 123'\n",
    "shift = 2\n",
    "\n",
    "caesar_cipher_encrypt_mod(string, shift)"
   ]
  },
  {
   "cell_type": "code",
   "execution_count": 29,
   "metadata": {},
   "outputs": [
    {
     "data": {
      "text/plain": [
       "'Sgdchdhrbzrs'"
      ]
     },
     "execution_count": 29,
     "metadata": {},
     "output_type": "execute_result"
    }
   ],
   "source": [
    "string = 'The die is cast'\n",
    "shift = 25\n",
    "\n",
    "caesar_cipher_encrypt_mod(string, shift)"
   ]
  },
  {
   "cell_type": "markdown",
   "metadata": {},
   "source": [
    "### QUESTION 6"
   ]
  },
  {
   "cell_type": "raw",
   "metadata": {},
   "source": [
    "Do you know what a palindrome is?\n",
    "\n",
    "It's a word which look the same when read forward and backward. For example, \"kayak\" is a palindrome, while \"loyal\" is not.\n",
    "\n",
    "Your task is to write a program which:\n",
    "\n",
    "~ asks the user for some text;\n",
    "~ checks whether the entered text is a palindrome, and prints result.\n",
    "\n",
    "Note:\n",
    "assume that an empty string isn't a palindrome;\n",
    "treat upper- and lower-case letters as equal;\n",
    "spaces are not taken into account during the check - treat them as non-existent;\n",
    "there are more than a few correct solutions - try to find more than one.\n",
    "Test your code using the data we've provided.\n",
    "\n",
    "---- Test data ----\n",
    "\n",
    "Sample input:\n",
    "Ten animals I slam in a net\n",
    "Sample output:\n",
    "It's a palindrome\n",
    "\n",
    "\n",
    "Sample input:\n",
    "Eleven animals I slam in a net\n",
    "Sample output:\n",
    "It's not a palindrome\n"
   ]
  },
  {
   "cell_type": "code",
   "execution_count": 59,
   "metadata": {},
   "outputs": [],
   "source": [
    "def check_palindrom(txt):\n",
    "    sample_txt = ''\n",
    "    for i in txt:\n",
    "        res = i.isalnum()\n",
    "        if not res:\n",
    "            continue\n",
    "        else:\n",
    "            sample_txt = sample_txt + i\n",
    "    sample_txt = sample_txt.upper()\n",
    "    if sample_txt[::1] == sample_txt[::-1]:\n",
    "        print('It\\'s a palindrome')\n",
    "    else:\n",
    "        print('It\\'s not a palindrome')"
   ]
  },
  {
   "cell_type": "code",
   "execution_count": 60,
   "metadata": {},
   "outputs": [
    {
     "name": "stdout",
     "output_type": "stream",
     "text": [
      "It's a palindrome\n"
     ]
    }
   ],
   "source": [
    "txt = 'Ten animals I slam in a net'\n",
    "check_palindrom(txt)"
   ]
  },
  {
   "cell_type": "code",
   "execution_count": 61,
   "metadata": {},
   "outputs": [
    {
     "name": "stdout",
     "output_type": "stream",
     "text": [
      "It's not a palindrome\n"
     ]
    }
   ],
   "source": [
    "txt = 'Eleven animals I slam in a net'\n",
    "check_palindrom(txt)"
   ]
  },
  {
   "cell_type": "markdown",
   "metadata": {},
   "source": [
    "### QUESTION 7"
   ]
  },
  {
   "cell_type": "code",
   "execution_count": 62,
   "metadata": {},
   "outputs": [],
   "source": [
    "def anagram_check(txt1, txt2):\n",
    "    if len(txt1) and len(txt2) == 0:\n",
    "        print('Not anagrams')\n",
    "    elif len(txt1) == len(txt2):\n",
    "        txt1 = txt1.upper()\n",
    "        txt2 = txt2.upper()\n",
    "        for i in txt1:\n",
    "            if i not in txt2:\n",
    "                print('Not anagrams')\n",
    "                break\n",
    "        else:\n",
    "            print('Anagrams')"
   ]
  },
  {
   "cell_type": "code",
   "execution_count": 63,
   "metadata": {},
   "outputs": [
    {
     "name": "stdout",
     "output_type": "stream",
     "text": [
      "Anagrams\n"
     ]
    }
   ],
   "source": [
    "txt1 = 'Listen'\n",
    "txt2 = 'Silent'\n",
    "\n",
    "anagram_check(txt1, txt2)"
   ]
  },
  {
   "cell_type": "code",
   "execution_count": 65,
   "metadata": {},
   "outputs": [
    {
     "name": "stdout",
     "output_type": "stream",
     "text": [
      "Not anagrams\n"
     ]
    }
   ],
   "source": [
    "txt1 = 'modern'\n",
    "txt2 = 'norman'\n",
    "\n",
    "anagram_check(txt1, txt2)"
   ]
  },
  {
   "cell_type": "markdown",
   "metadata": {},
   "source": [
    "### QUESTION 8"
   ]
  },
  {
   "cell_type": "raw",
   "metadata": {},
   "source": [
    "Some say that the Digit of Life is a digit evaluated using somebody's birthday. It's simple - you just need to sum all the digits of the date. If the result contains more than one digit, you have to repeat the addition until you get exactly one digit. \n",
    "\n",
    "For example:\n",
    "1 January 2017 = 2017 01 01\n",
    "2 + 0 + 1 + 7 + 0 + 1 + 0 + 1 = 12\n",
    "1 + 2 = 3\n",
    "3 is the digit we searched for and found.\n",
    "\n",
    "Your task is to write a program which:\n",
    "~ asks the user her/his birthday (in the format YYYYMMDD, or YYYYDDMM, or MMDDYYYY - actually, the order of the digits doesn't matter)\n",
    "~ outputs the Digit of Life for the date.\n",
    "\n",
    "Test your code using the data we've provided.\n",
    "--------- Test data --------------\n",
    "Sample input:\n",
    "19991229\n",
    "Sample output:\n",
    "6\n",
    "\n",
    "Sample input:\n",
    "20000101\n",
    "Sample output:\n",
    "4"
   ]
  },
  {
   "cell_type": "code",
   "execution_count": 66,
   "metadata": {},
   "outputs": [],
   "source": [
    "def LOD(num):\n",
    "    SUM = 0\n",
    "    for i in str(num):\n",
    "        SUM = SUM + int(i)\n",
    "    n = len(str(SUM))\n",
    "    if n != 1:\n",
    "        LOD(SUM)\n",
    "    else:\n",
    "        print(SUM)"
   ]
  },
  {
   "cell_type": "code",
   "execution_count": 67,
   "metadata": {},
   "outputs": [
    {
     "name": "stdout",
     "output_type": "stream",
     "text": [
      "4\n"
     ]
    }
   ],
   "source": [
    "num = '20000101'\n",
    "LOD(num)"
   ]
  },
  {
   "cell_type": "code",
   "execution_count": 69,
   "metadata": {},
   "outputs": [
    {
     "name": "stdout",
     "output_type": "stream",
     "text": [
      "6\n"
     ]
    }
   ],
   "source": [
    "num = '19991229'\n",
    "LOD(num)"
   ]
  },
  {
   "cell_type": "markdown",
   "metadata": {},
   "source": [
    "### QUESTION 9"
   ]
  },
  {
   "cell_type": "raw",
   "metadata": {},
   "source": [
    "Let's play a game. We will give you two strings: one being a word (e.g., \"dog\") and the second being a combination of any characters.\n",
    "\n",
    "Your task is to write a program which answers the following question: are the characters comprising the first string hidden inside the second string?\n",
    "\n",
    "For example:\n",
    "~ if the second string is given as \"vcxzxduybfdsobywuefgas\", the answer is yes;\n",
    "~ if the second string is \"vcxzxdcybfdstbywuefsas\", the answer is no (as there are neither the letters \"d\", \"o\", or \"g\", in this order)\n",
    "\n",
    "--------- Test data 1 ----------------\n",
    "Sample input:\n",
    "donor\n",
    "Nabucodonosor\n",
    "\n",
    "Sample output:\n",
    "Yes\n",
    "\n",
    "--------- Test data 2 ----------------\n",
    "Sample input:\n",
    "donut\n",
    "Nabucodonosor\n",
    "\n",
    "Sample output:\n",
    "No"
   ]
  },
  {
   "cell_type": "code",
   "execution_count": 70,
   "metadata": {},
   "outputs": [],
   "source": [
    "def isHidden(word, string):\n",
    "    for i in word:\n",
    "        if i not in string:\n",
    "            print('No')\n",
    "            break\n",
    "    else:\n",
    "        print('Yes')"
   ]
  },
  {
   "cell_type": "code",
   "execution_count": 71,
   "metadata": {},
   "outputs": [
    {
     "name": "stdout",
     "output_type": "stream",
     "text": [
      "Yes\n"
     ]
    }
   ],
   "source": [
    "word = 'donor'\n",
    "string = 'Nabucodonosor'\n",
    "isHidden(word, string)"
   ]
  },
  {
   "cell_type": "code",
   "execution_count": 72,
   "metadata": {},
   "outputs": [
    {
     "name": "stdout",
     "output_type": "stream",
     "text": [
      "No\n"
     ]
    }
   ],
   "source": [
    "word = 'donut'\n",
    "string = 'Nabucodonosor'\n",
    "isHidden(word, string)"
   ]
  },
  {
   "cell_type": "markdown",
   "metadata": {},
   "source": [
    "### QUESTION 10"
   ]
  },
  {
   "cell_type": "raw",
   "metadata": {},
   "source": [
    "As you probably know, Sudoku is a number-placing puzzle played on a 9x9 board. The player has to fill the board in a very specific way:\n",
    "\n",
    "~ each row of the board must contain all digits from 0 to 9 (the order doesn't matter)\n",
    "~ each column of the board must contain all digits from 0 to 9 (again, the order doesn't matter)\n",
    "~ each of the nine 3x3 \"tiles\" (we will name them \"sub-squares\") of the table must contain all digits from 0 to 9.\n",
    "\n",
    "Your task is to write a program which:\n",
    "~ reads 9 rows of the Sudoku, each containing 9 digits (check carefully if the data entered are valid)\n",
    "~ outputs Yes if the Sudoku is valid, and No otherwise.\n",
    "\n",
    "Test your code using the data we've provided.\n",
    "\n",
    "--------------- Test data ---------------------\n",
    "Sample input:\n",
    "295743861\n",
    "431865927\n",
    "876192543\n",
    "387459216\n",
    "612387495\n",
    "549216738\n",
    "763524189\n",
    "928671354\n",
    "154938672\n",
    "\n",
    "Sample output:\n",
    "Yes\n",
    "\n",
    "\n",
    "Sample input:\n",
    "195743862\n",
    "431865927\n",
    "876192543\n",
    "387459216\n",
    "612387495\n",
    "549216738\n",
    "763524189\n",
    "928671354\n",
    "254938671\n",
    "\n",
    "Sample output:\n",
    "No"
   ]
  },
  {
   "cell_type": "code",
   "execution_count": 108,
   "metadata": {},
   "outputs": [],
   "source": [
    "def isSuduko(r1,r2,r3,r4,r5,r6,r7,r8,r9):\n",
    "    \n",
    "    l1 = list(r1)\n",
    "    l1_new = []\n",
    "    for i in l1:\n",
    "        l1_new.append(int(i))\n",
    "\n",
    "    l2 = list(r2)\n",
    "    l2_new = []\n",
    "    for i in l2:\n",
    "        l2_new.append(int(i))\n",
    "\n",
    "    l3 = list(r3)\n",
    "    l3_new = []\n",
    "    for i in l3:\n",
    "        l3_new.append(int(i))\n",
    "\n",
    "\n",
    "    l4 = list(r4)\n",
    "    l4_new = []\n",
    "    for i in l4:\n",
    "        l4_new.append(int(i))\n",
    "\n",
    "    l5 = list(r5)\n",
    "    l5_new = []\n",
    "    for i in l5:\n",
    "        l5_new.append(int(i))\n",
    "\n",
    "    l6 = list(r6)\n",
    "    l6_new = []\n",
    "    for i in l6:\n",
    "        l6_new.append(int(i))\n",
    "\n",
    "    l7 = list(r7)\n",
    "    l7_new = []\n",
    "    for i in l7:\n",
    "        l7_new.append(int(i))\n",
    "\n",
    "    l8 = list(r8)\n",
    "    l8_new = []\n",
    "    for i in l8:\n",
    "        l8_new.append(int(i))\n",
    "\n",
    "    l9 = list(r9)\n",
    "    l9_new = []\n",
    "    for i in l9:\n",
    "        l9_new.append(int(i))\n",
    "        \n",
    "    l = [l1_new, l2_new,l3_new,l4_new,l5_new,l6_new,l7_new,l8_new,l9_new]\n",
    "    \n",
    "    # Find row sum\n",
    "    row_sum = sum(l[0]) # initialization \n",
    "    for r in range(1,len(l)):\n",
    "        if sum(l[r]) != row_sum:\n",
    "            row_sum_con = False\n",
    "            break\n",
    "        else:\n",
    "            row_sum_con = True # Row sum condition satisfied\n",
    "        \n",
    "    # Find column sum\n",
    "    col_sum = 0\n",
    "    for r in range(len(l)):\n",
    "        col_sum += l[r][0]\n",
    "    COL_SUM = col_sum # Column sum initialization\n",
    "\n",
    "    for R in range(len(l)):\n",
    "        C_S = 0\n",
    "        for C in range(len(l)):\n",
    "            C_S += l[R][C]\n",
    "        if C_S != COL_SUM:\n",
    "            col_sum_con = False\n",
    "            break\n",
    "        else:\n",
    "            col_sum_con = True\n",
    "        \n",
    "    # Checking internal sub-squares\n",
    "    sl = l[0:3]\n",
    "    sub_list = []\n",
    "    for i in sl:\n",
    "        sub_list+= i[0:3]\n",
    "    init_sub_list_sum = sum(sub_list) # Initializing the sum of the sublist\n",
    "\n",
    "    for n in range(0,9,3):\n",
    "        sl = l[n:n+3]\n",
    "        for m in range(0,9,3):\n",
    "            sub_list = []\n",
    "            for i in sl:\n",
    "                sub_list += i[m:m+3]\n",
    "            sub_list_sum = sum(sub_list)\n",
    "            if sub_list_sum == init_sub_list_sum:\n",
    "                sublist_con = True\n",
    "            else:\n",
    "                sublist_con = False\n",
    "                break\n",
    "                \n",
    "                \n",
    "    if sublist_con == True and col_sum_con == True and row_sum_con == True:\n",
    "        print('Yes')\n",
    "    else:\n",
    "        print('No')"
   ]
  },
  {
   "cell_type": "code",
   "execution_count": 109,
   "metadata": {},
   "outputs": [
    {
     "name": "stdout",
     "output_type": "stream",
     "text": [
      "Yes\n"
     ]
    }
   ],
   "source": [
    "# INPUT 1\n",
    "r1 = '295743861'\n",
    "r2 = '431865927'\n",
    "r3 = '876192543'\n",
    "r4 = '387459216'\n",
    "r5 = '612387495'\n",
    "r6 = '549216738'\n",
    "r7 = '763524189'\n",
    "r8 = '928671354'\n",
    "r9 = '154938672'\n",
    "\n",
    "isSuduko(r1,r2,r3,r4,r5,r6,r7,r8,r9)"
   ]
  },
  {
   "cell_type": "code",
   "execution_count": 110,
   "metadata": {},
   "outputs": [
    {
     "name": "stdout",
     "output_type": "stream",
     "text": [
      "No\n"
     ]
    }
   ],
   "source": [
    "# INPUT 2\n",
    "r1 = '195743862'\n",
    "r2 = '431865927'\n",
    "r3 = '876192543'\n",
    "r4 = '387459216'\n",
    "r5 = '612387495'\n",
    "r6 = '549216738'\n",
    "r7 = '763524189'\n",
    "r8 = '928671354'\n",
    "r9 = '254938671'\n",
    "\n",
    "isSuduko(r1,r2,r3,r4,r5,r6,r7,r8,r9)"
   ]
  },
  {
   "cell_type": "markdown",
   "metadata": {},
   "source": [
    "### QUESTION 11"
   ]
  },
  {
   "cell_type": "raw",
   "metadata": {},
   "source": [
    "We need a class able to count seconds. Easy? Not as much as you may think as we're going to have some specific expectations.\n",
    "\n",
    "Read them carefully as the class you're about write will be used to launch rockets carrying international missions to Mars. It's a great responsibility. We're counting on you!\n",
    "\n",
    "Your class will be called Timer. Its constructor accepts three arguments representing hours (a value from range [0..23] - we will be using the military time), minutes (from range [0..59]) and seconds (from range [0..59]).\n",
    "\n",
    "Zero is the default value for all of the above parameters. There is no need to perform any validation checks.\n",
    "\n",
    "The class itself should provide the following facilities:\n",
    "objects of the class should be \"printable\", i.e. they should be able to implicitly convert themselves into strings of the following form: \"hh:mm:ss\", with leading zeros added when any of the values is less than 10;\n",
    "the class should be equipped with parameterless methods called next_second() and previous_second(), incrementing the time stored inside objects by +1/-1 second respectively.\n",
    "\n",
    "Use the following hints:\n",
    "~ all object's properties should be private;\n",
    "~ consider writing a separate function (not method!) to format the time string.\n",
    "\n",
    "Expected output:\n",
    "23:59:59\n",
    "00:00:00\n",
    "00:00:01"
   ]
  },
  {
   "cell_type": "code",
   "execution_count": 1,
   "metadata": {},
   "outputs": [],
   "source": [
    "def format_time(hr,minute,sec):\n",
    "    \n",
    "    if len(str(hr)) == 1:\n",
    "        HR = '0'+ str(hr)\n",
    "    else:\n",
    "        HR = str(hr)\n",
    "    \n",
    "    if len(str(minute)) == 1:\n",
    "        MIN = '0'+ str(minute)\n",
    "    else:\n",
    "        MIN = str(minute)\n",
    "        \n",
    "    if len(str(sec)) == 1:\n",
    "        SEC = '0'+ str(sec)\n",
    "    else:\n",
    "        SEC = str(sec)\n",
    "    \n",
    "    time = '{0}:{1}:{2}'.format(HR,MIN,SEC)\n",
    "    \n",
    "    return time\n",
    "    "
   ]
  },
  {
   "cell_type": "code",
   "execution_count": 2,
   "metadata": {},
   "outputs": [],
   "source": [
    "class Timer:\n",
    "    def __init__(self,hour=0,minute=0,second=0):\n",
    "        self.__Hr = hour\n",
    "        self.__Min = minute\n",
    "        self.__Sec = second\n",
    "            \n",
    "    def next_second(self):\n",
    "        \n",
    "        next_sec = self.__Sec\n",
    "        next_min = self.__Min\n",
    "        next_hr = self.__Hr\n",
    "        \n",
    "        if self.__Sec == 59:\n",
    "            next_sec = 0\n",
    "            if self.__Min == 59:\n",
    "                next_min = 0\n",
    "                if self.__Hr == 23:\n",
    "                    next_hr = 0\n",
    "                else:\n",
    "                    next_hr = self.__Hr + 1\n",
    "            else:\n",
    "                next_min = self.__Min + 1 \n",
    "        \n",
    "        elif self.__Min == 59:\n",
    "            next_min = 0\n",
    "            if self.__Hr == 23:\n",
    "                next_hr = 0\n",
    "            else:\n",
    "                next_hr = self.__Hr + 1 \n",
    "            \n",
    "        elif self.__Hr == 23:\n",
    "            next_hr = 0  \n",
    "            \n",
    "        else:\n",
    "            next_sec = self.__Sec + 1\n",
    "            \n",
    "        return format_time(next_hr,next_min,next_sec)\n",
    "    \n",
    "    def previous_second(self):\n",
    "        \n",
    "        prev_sec = self.__Sec\n",
    "        prev_min = self.__Min\n",
    "        prev_hr = self.__Hr\n",
    "        \n",
    "        if self.__Sec == 0:\n",
    "            prev_sec = 59\n",
    "            if self.__Min == 0:\n",
    "                prev_min = 59\n",
    "                if self.__Hr == 0:\n",
    "                    prev_hr = 23\n",
    "                else:\n",
    "                    prev_hr = self.__Hr - 1\n",
    "            else:\n",
    "                prev_min = self.__Min - 1 \n",
    "        \n",
    "        elif self.__Min == 0:\n",
    "            prev_min = 59\n",
    "            if self.__Hr == 0:\n",
    "                prev_hr = 23\n",
    "            else:\n",
    "                prev_hr = self.__Hr - 1 \n",
    "            \n",
    "        elif self.__Hr == 0:\n",
    "            prev_hr = 23 \n",
    "            \n",
    "        else:\n",
    "            prev_sec = self.__Sec - 1\n",
    "            \n",
    "        return format_time(prev_hr,prev_min,prev_sec)"
   ]
  },
  {
   "cell_type": "code",
   "execution_count": 7,
   "metadata": {},
   "outputs": [],
   "source": [
    "timer_obj = Timer(0,0,0)"
   ]
  },
  {
   "cell_type": "code",
   "execution_count": 9,
   "metadata": {},
   "outputs": [
    {
     "name": "stdout",
     "output_type": "stream",
     "text": [
      "Previous Second ->  23:59:59\n",
      "Current Time    ->  00:00:00\n",
      "Next Second     ->  00:00:01\n"
     ]
    }
   ],
   "source": [
    "print('Previous Second -> ',timer_obj.previous_second())\n",
    "print('Current Time    -> ',format_time(0,0,0))\n",
    "print('Next Second     -> ',timer_obj.next_second())"
   ]
  },
  {
   "cell_type": "markdown",
   "metadata": {},
   "source": [
    "### QUESTION 12"
   ]
  },
  {
   "cell_type": "raw",
   "metadata": {},
   "source": [
    "Your task is to implement a class called Weeker. Yes, your eyes don't deceive you – this name comes from the fact that objects of that class will be able to store and to manipulate the days of the week.\n",
    "\n",
    "The class constructor accepts one argument – a string. The string represents the name of the day of the week and the only acceptable values must come from the following set:\n",
    "Mon Tue Wed Thu Fri Sat Sun\n",
    "\n",
    " The class should provide the following facilities:\n",
    "\n",
    "~ objects of the class should be \"printable\", i.e. they should be able to implicitly convert themselves into strings of the same form as the constructor arguments;\n",
    "~ the class should be equipped with one-parameter methods called add_days(n) and subtract_days(n), with n being an integer number and updating the day of week stored inside the object in the way reflecting the change of date by the indicated number of days, forward or backward.\n",
    "~ all object's properties should be private;\n",
    "\n",
    "Expected output\n",
    "Mon\n",
    "Tue\n",
    "Sun\n",
    "Sorry, I can't serve your request."
   ]
  },
  {
   "cell_type": "code",
   "execution_count": 19,
   "metadata": {},
   "outputs": [],
   "source": [
    "class Weeker:\n",
    "    \n",
    "    __day_list = ['Mon','Tue','Wed','Thu','Fri','Sat','Sun']\n",
    "        \n",
    "    def __init__(self,day):\n",
    "        self.__day = day\n",
    "        if self.__day not in Weeker.__day_list:\n",
    "            print('Sorry, I can\\'t serve your request.')\n",
    "    \n",
    "    def __str__(self):\n",
    "        return self.__day\n",
    "        \n",
    "    def add_days(self,n):\n",
    "        idx = Weeker.__day_list.index(self.__day)\n",
    "        num = idx + n\n",
    "        if num not in range(1,len(Weeker.__day_list)+1):\n",
    "            num = num % len(Weeker.__day_list)\n",
    "        else:\n",
    "            num = num\n",
    "        res_day = Weeker.__day_list[num]\n",
    "        return res_day\n",
    "    \n",
    "    def subtract_days(self,n):\n",
    "        idx = Weeker.__day_list.index(self.__day)\n",
    "        num = idx - n\n",
    "        if num not in range(1,len(Weeker.__day_list)+1):\n",
    "            num = num % len(Weeker.__day_list)\n",
    "        else:\n",
    "            num = num\n",
    "        res_day = Weeker.__day_list[num+1]\n",
    "        return res_day"
   ]
  },
  {
   "cell_type": "code",
   "execution_count": 22,
   "metadata": {},
   "outputs": [
    {
     "name": "stdout",
     "output_type": "stream",
     "text": [
      "Mon\n",
      "Tue\n",
      "Sun\n",
      "Sorry, I can't serve your request.\n"
     ]
    }
   ],
   "source": [
    "weekday = Weeker('Mon')\n",
    "print(weekday)\n",
    "print(weekday.add_days(15))\n",
    "print(weekday.subtract_days(23))    \n",
    "weekday = Weeker('Monday')"
   ]
  },
  {
   "cell_type": "markdown",
   "metadata": {},
   "source": [
    "### QUESTION 13"
   ]
  },
  {
   "cell_type": "raw",
   "metadata": {},
   "source": [
    "Let's visit a very special place - a plane with the Cartesian coordinate system\n",
    "\n",
    "Each point located on the plane can be described as a pair of coordinates customarily called x and y. We expect that you are able to write a Python class which stores both coordinates as float numbers. Moreover, we want the objects of this class to evaluate the distances between any of the two points situated on the plane.\n",
    "\n",
    "This is how we imagine the class:\n",
    "\n",
    "~ it's called Point;\n",
    "~ its constructor accepts two arguments (x and y respectively), both default to zero;\n",
    "~ all the properties should be private;\n",
    "~ the class contains two parameterless methods called getx() and gety(), which return each of the two coordinates (the coordinates are stored privately, so they cannot be accessed directly from within the object);\n",
    "~ the class provides a method called distance_from_xy(x,y), which calculates and returns the distance between the point stored inside the object and the other point given as a pair of floats;\n",
    "~ the class provides a method called distance_from_point(point), which calculates the distance (like the previous method), but the other point's location is given as another Point class object;\n",
    "\n",
    "Expected output\n",
    "1.4142135623730951\n",
    "1.4142135623730951"
   ]
  },
  {
   "cell_type": "code",
   "execution_count": 39,
   "metadata": {},
   "outputs": [],
   "source": [
    "import math"
   ]
  },
  {
   "cell_type": "code",
   "execution_count": 71,
   "metadata": {},
   "outputs": [],
   "source": [
    "class Point:\n",
    "    \n",
    "    def __init__(self,x_cor=0,y_cor=0):\n",
    "        self.__x = x_cor\n",
    "        self.__y = y_cor\n",
    "    \n",
    "    def getx(self):\n",
    "        return self.__x\n",
    "    \n",
    "    def gety(self):\n",
    "        return self.__y\n",
    "    \n",
    "    def distance_from_xy(self,x,y):\n",
    "        x1 = self.__x\n",
    "        y1 = self.__y\n",
    "        dis = math.sqrt((x-x1)**2+(y-y1)**2)\n",
    "        return dis\n",
    "    \n",
    "    def distance_from_point(self,point):\n",
    "        x = point.getx()\n",
    "        y = point.gety()\n",
    "        x1 = self.__x\n",
    "        y1 = self.__y\n",
    "        dis = math.sqrt((x-x1)**2+(y-y1)**2)\n",
    "        return dis\n",
    "    "
   ]
  },
  {
   "cell_type": "code",
   "execution_count": 72,
   "metadata": {},
   "outputs": [],
   "source": [
    "p_obj1 = Point(0,0)\n",
    "p_obj2 = Point(1,1)"
   ]
  },
  {
   "cell_type": "code",
   "execution_count": 73,
   "metadata": {},
   "outputs": [
    {
     "data": {
      "text/plain": [
       "1.4142135623730951"
      ]
     },
     "execution_count": 73,
     "metadata": {},
     "output_type": "execute_result"
    }
   ],
   "source": [
    "p_obj2.distance_from_xy(2,0)"
   ]
  },
  {
   "cell_type": "code",
   "execution_count": 74,
   "metadata": {},
   "outputs": [
    {
     "data": {
      "text/plain": [
       "1.4142135623730951"
      ]
     },
     "execution_count": 74,
     "metadata": {},
     "output_type": "execute_result"
    }
   ],
   "source": [
    "p_obj1.distance_from_point(p_obj2)"
   ]
  },
  {
   "cell_type": "markdown",
   "metadata": {},
   "source": [
    "### QUESTION 14"
   ]
  },
  {
   "cell_type": "raw",
   "metadata": {},
   "source": [
    "Now we're going to embed the Point class (see Lab 3.4.1.14) inside another class. Also, we're going to put three points into one class, which will let us define a triangle. How can we do it?\n",
    "\n",
    "The new class will be called Triangle and this is the list of our expectations:\n",
    "\n",
    "the constructor accepts three arguments - all of them are objects of the Point class;\n",
    "the points are stored inside the object as a private list;\n",
    "the class provides a parameterless method called perimeter(), which calculates the perimeter of the triangle described by the three points; the perimeter is a sum of all legs' lengths (we mention it for the record, although we are sure that you know it perfectly yourself.)\n",
    "\n",
    "Expected output:\n",
    "3.414213562373095"
   ]
  },
  {
   "cell_type": "code",
   "execution_count": 77,
   "metadata": {},
   "outputs": [],
   "source": [
    "class Triangle(Point):\n",
    "    def __init__(self, vertice1, vertice2, vertice3):\n",
    "        Point.__init__(self,x_cor=0,y_cor=0)\n",
    "        self.p1 = vertice1\n",
    "        self.p2 = vertice2\n",
    "        self.p3 = vertice3\n",
    "        \n",
    "    def perimeter(self):\n",
    "        dis12 = self.p1.distance_from_point(self.p2)\n",
    "        dis23 = self.p2.distance_from_point(self.p3)\n",
    "        dis31 = self.p3.distance_from_point(self.p1)\n",
    "        total_dis = dis12 + dis23 + dis31\n",
    "        return total_dis"
   ]
  },
  {
   "cell_type": "code",
   "execution_count": 80,
   "metadata": {},
   "outputs": [
    {
     "name": "stdout",
     "output_type": "stream",
     "text": [
      "3.414213562373095\n"
     ]
    }
   ],
   "source": [
    "triangle = Triangle(Point(0, 0), Point(1, 0), Point(0, 1))\n",
    "print(triangle.perimeter())"
   ]
  }
 ],
 "metadata": {
  "kernelspec": {
   "display_name": "Python 3",
   "language": "python",
   "name": "python3"
  },
  "language_info": {
   "codemirror_mode": {
    "name": "ipython",
    "version": 3
   },
   "file_extension": ".py",
   "mimetype": "text/x-python",
   "name": "python",
   "nbconvert_exporter": "python",
   "pygments_lexer": "ipython3",
   "version": "3.8.5"
  }
 },
 "nbformat": 4,
 "nbformat_minor": 4
}
